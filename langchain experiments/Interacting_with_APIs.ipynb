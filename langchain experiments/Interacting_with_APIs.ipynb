{
 "cells": [
  {
   "cell_type": "markdown",
   "metadata": {},
   "source": [
    "整体的思路是，将API specification文档先输入给LLM，然后将用户的query输入给LLM，这样LLM就能产生一个能call的URL。  \n",
    "然后通过调用这个URL，得到对应的respond。  \n",
    "再将respond和query输入给LLM，产生最终的答案。"
   ]
  },
  {
   "cell_type": "markdown",
   "metadata": {},
   "source": [
    "方法1：直接使用OpenAI自带的函数调用功能\n"
   ]
  },
  {
   "cell_type": "code",
   "execution_count": null,
   "metadata": {},
   "outputs": [],
   "source": [
    "from langchain.chains.openai_functions.openapi import get_openapi_chain\n",
    "import os\n",
    "os.environ[\"OPENAI_API_KEY\"] = \"\"\n",
    "\n",
    "chain = get_openapi_chain(\n",
    "    \"https://api.speak.com/openapi.yaml\"\n",
    ")\n",
    "chain(\"translate \\'I love you \\' into German\")"
   ]
  },
  {
   "cell_type": "markdown",
   "metadata": {},
   "source": [
    "方法2：使用自定义的Chain\n"
   ]
  },
  {
   "cell_type": "code",
   "execution_count": 12,
   "metadata": {},
   "outputs": [
    {
     "name": "stdout",
     "output_type": "stream",
     "text": [
      "\n",
      "\n",
      "\u001b[1m> Entering new APIChain chain...\u001b[0m\n",
      "\u001b[32;1m\u001b[1;3mhttps://api.open-meteo.com/v1/forecast?latitude=48.1351&longitude=11.5820&hourly=temperature_2m&temperature_unit=fahrenheit&current_weather=true\u001b[0m\n",
      "\u001b[33;1m\u001b[1;3m{\"latitude\":48.14,\"longitude\":11.58,\"generationtime_ms\":0.0680685043334961,\"utc_offset_seconds\":0,\"timezone\":\"GMT\",\"timezone_abbreviation\":\"GMT\",\"elevation\":521.0,\"current_weather_units\":{\"time\":\"iso8601\",\"interval\":\"seconds\",\"temperature\":\"°F\",\"windspeed\":\"km/h\",\"winddirection\":\"°\",\"is_day\":\"\",\"weathercode\":\"wmo code\"},\"current_weather\":{\"time\":\"2023-12-14T10:30\",\"interval\":900,\"temperature\":41.7,\"windspeed\":9.0,\"winddirection\":265,\"is_day\":1,\"weathercode\":80},\"hourly_units\":{\"time\":\"iso8601\",\"temperature_2m\":\"°F\"},\"hourly\":{\"time\":[\"2023-12-14T00:00\",\"2023-12-14T01:00\",\"2023-12-14T02:00\",\"2023-12-14T03:00\",\"2023-12-14T04:00\",\"2023-12-14T05:00\",\"2023-12-14T06:00\",\"2023-12-14T07:00\",\"2023-12-14T08:00\",\"2023-12-14T09:00\",\"2023-12-14T10:00\",\"2023-12-14T11:00\",\"2023-12-14T12:00\",\"2023-12-14T13:00\",\"2023-12-14T14:00\",\"2023-12-14T15:00\",\"2023-12-14T16:00\",\"2023-12-14T17:00\",\"2023-12-14T18:00\",\"2023-12-14T19:00\",\"2023-12-14T20:00\",\"2023-12-14T21:00\",\"2023-12-14T22:00\",\"2023-12-14T23:00\",\"2023-12-15T00:00\",\"2023-12-15T01:00\",\"2023-12-15T02:00\",\"2023-12-15T03:00\",\"2023-12-15T04:00\",\"2023-12-15T05:00\",\"2023-12-15T06:00\",\"2023-12-15T07:00\",\"2023-12-15T08:00\",\"2023-12-15T09:00\",\"2023-12-15T10:00\",\"2023-12-15T11:00\",\"2023-12-15T12:00\",\"2023-12-15T13:00\",\"2023-12-15T14:00\",\"2023-12-15T15:00\",\"2023-12-15T16:00\",\"2023-12-15T17:00\",\"2023-12-15T18:00\",\"2023-12-15T19:00\",\"2023-12-15T20:00\",\"2023-12-15T21:00\",\"2023-12-15T22:00\",\"2023-12-15T23:00\",\"2023-12-16T00:00\",\"2023-12-16T01:00\",\"2023-12-16T02:00\",\"2023-12-16T03:00\",\"2023-12-16T04:00\",\"2023-12-16T05:00\",\"2023-12-16T06:00\",\"2023-12-16T07:00\",\"2023-12-16T08:00\",\"2023-12-16T09:00\",\"2023-12-16T10:00\",\"2023-12-16T11:00\",\"2023-12-16T12:00\",\"2023-12-16T13:00\",\"2023-12-16T14:00\",\"2023-12-16T15:00\",\"2023-12-16T16:00\",\"2023-12-16T17:00\",\"2023-12-16T18:00\",\"2023-12-16T19:00\",\"2023-12-16T20:00\",\"2023-12-16T21:00\",\"2023-12-16T22:00\",\"2023-12-16T23:00\",\"2023-12-17T00:00\",\"2023-12-17T01:00\",\"2023-12-17T02:00\",\"2023-12-17T03:00\",\"2023-12-17T04:00\",\"2023-12-17T05:00\",\"2023-12-17T06:00\",\"2023-12-17T07:00\",\"2023-12-17T08:00\",\"2023-12-17T09:00\",\"2023-12-17T10:00\",\"2023-12-17T11:00\",\"2023-12-17T12:00\",\"2023-12-17T13:00\",\"2023-12-17T14:00\",\"2023-12-17T15:00\",\"2023-12-17T16:00\",\"2023-12-17T17:00\",\"2023-12-17T18:00\",\"2023-12-17T19:00\",\"2023-12-17T20:00\",\"2023-12-17T21:00\",\"2023-12-17T22:00\",\"2023-12-17T23:00\",\"2023-12-18T00:00\",\"2023-12-18T01:00\",\"2023-12-18T02:00\",\"2023-12-18T03:00\",\"2023-12-18T04:00\",\"2023-12-18T05:00\",\"2023-12-18T06:00\",\"2023-12-18T07:00\",\"2023-12-18T08:00\",\"2023-12-18T09:00\",\"2023-12-18T10:00\",\"2023-12-18T11:00\",\"2023-12-18T12:00\",\"2023-12-18T13:00\",\"2023-12-18T14:00\",\"2023-12-18T15:00\",\"2023-12-18T16:00\",\"2023-12-18T17:00\",\"2023-12-18T18:00\",\"2023-12-18T19:00\",\"2023-12-18T20:00\",\"2023-12-18T21:00\",\"2023-12-18T22:00\",\"2023-12-18T23:00\",\"2023-12-19T00:00\",\"2023-12-19T01:00\",\"2023-12-19T02:00\",\"2023-12-19T03:00\",\"2023-12-19T04:00\",\"2023-12-19T05:00\",\"2023-12-19T06:00\",\"2023-12-19T07:00\",\"2023-12-19T08:00\",\"2023-12-19T09:00\",\"2023-12-19T10:00\",\"2023-12-19T11:00\",\"2023-12-19T12:00\",\"2023-12-19T13:00\",\"2023-12-19T14:00\",\"2023-12-19T15:00\",\"2023-12-19T16:00\",\"2023-12-19T17:00\",\"2023-12-19T18:00\",\"2023-12-19T19:00\",\"2023-12-19T20:00\",\"2023-12-19T21:00\",\"2023-12-19T22:00\",\"2023-12-19T23:00\",\"2023-12-20T00:00\",\"2023-12-20T01:00\",\"2023-12-20T02:00\",\"2023-12-20T03:00\",\"2023-12-20T04:00\",\"2023-12-20T05:00\",\"2023-12-20T06:00\",\"2023-12-20T07:00\",\"2023-12-20T08:00\",\"2023-12-20T09:00\",\"2023-12-20T10:00\",\"2023-12-20T11:00\",\"2023-12-20T12:00\",\"2023-12-20T13:00\",\"2023-12-20T14:00\",\"2023-12-20T15:00\",\"2023-12-20T16:00\",\"2023-12-20T17:00\",\"2023-12-20T18:00\",\"2023-12-20T19:00\",\"2023-12-20T20:00\",\"2023-12-20T21:00\",\"2023-12-20T22:00\",\"2023-12-20T23:00\"],\"temperature_2m\":[41.4,41.1,39.9,39.8,39.8,39.0,39.5,39.5,39.8,40.8,41.5,41.9,42.0,42.0,42.3,41.9,41.0,40.9,40.8,40.8,40.4,40.3,39.9,39.8,39.3,38.8,38.4,38.1,37.8,37.2,36.5,35.4,35.8,36.2,37.2,38.5,39.6,40.1,40.0,39.4,38.9,38.5,38.4,38.3,38.4,38.4,38.2,38.1,38.1,37.7,37.5,37.3,37.2,36.9,36.9,36.7,36.9,37.9,39.1,40.8,41.9,42.1,41.8,40.9,39.8,38.7,37.3,36.4,35.9,35.4,35.1,34.5,33.7,32.7,32.1,32.0,32.1,31.9,32.1,32.2,32.4,35.3,38.6,41.8,44.5,45.1,44.4,43.0,40.8,37.8,35.5,34.5,34.1,33.8,33.6,33.4,33.4,33.5,33.7,33.8,33.7,33.7,33.9,34.6,35.9,37.9,41.7,46.2,49.1,49.2,47.7,45.6,43.1,40.1,37.8,36.8,36.5,36.3,35.6,35.0,34.5,34.1,33.8,33.5,32.8,31.9,31.3,31.3,32.2,34.0,37.5,41.8,44.9,45.7,45.2,44.3,43.0,41.2,39.3,37.1,34.7,32.9,32.1,31.9,31.8,31.6,31.3,31.3,31.4,31.7,32.6,34.5,37.1,39.0,39.8,40.0,39.8,39.2,38.1,37.1,36.3,35.6,35.2,35.0,35.1,35.1,35.0,34.8]}}\u001b[0m\n",
      "\n",
      "\u001b[1m> Finished chain.\u001b[0m\n"
     ]
    },
    {
     "data": {
      "text/plain": [
       "' The current temperature in Munich, Germany is 41.7°F.'"
      ]
     },
     "execution_count": 12,
     "metadata": {},
     "output_type": "execute_result"
    }
   ],
   "source": [
    "from langchain.chains import APIChain\n",
    "from langchain.chains.api import open_meteo_docs\n",
    "from langchain.llms import OpenAI\n",
    "api_doc = r'BASE URL: https://api.open-meteo.com/\\n\\nAPI Documentation\\nThe API endpoint /v1/forecast accepts a geographical coordinate, a list of weather variables and responds with a JSON hourly weather forecast for 7 days. Time always starts at 0:00 today and contains 168 hours. All URL parameters are listed below:\\n\\nParameter\\tFormat\\tRequired\\tDefault\\tDescription\\nlatitude, longitude\\tFloating point\\tYes\\t\\tGeographical WGS84 coordinate of the location\\nhourly\\tString array\\tNo\\t\\tA list of weather variables which should be returned. Values can be comma separated, or multiple &hourly= parameter in the URL can be used.\\ndaily\\tString array\\tNo\\t\\tA list of daily weather variable aggregations which should be returned. Values can be comma separated, or multiple &daily= parameter in the URL can be used. If daily weather variables are specified, parameter timezone is required.\\ncurrent_weather\\tBool\\tNo\\tfalse\\tInclude current weather conditions in the JSON output.\\ntemperature_unit\\tString\\tNo\\tcelsius\\tIf fahrenheit is set, all temperature values are converted to Fahrenheit.\\nwindspeed_unit\\tString\\tNo\\tkmh\\tOther wind speed speed units: ms, mph and kn\\nprecipitation_unit\\tString\\tNo\\tmm\\tOther precipitation amount units: inch\\ntimeformat\\tString\\tNo\\tiso8601\\tIf format unixtime is selected, all time values are returned in UNIX epoch time in seconds. Please note that all timestamp are in GMT+0! For daily values with unix timestamps, please apply utc_offset_seconds again to get the correct date.\\ntimezone\\tString\\tNo\\tGMT\\tIf timezone is set, all timestamps are returned as local-time and data is returned starting at 00:00 local-time. Any time zone name from the time zone database is supported. If auto is set as a time zone, the coordinates will be automatically resolved to the local time zone.\\npast_days\\tInteger (0-2)\\tNo\\t0\\tIf past_days is set, yesterday or the day before yesterday data are also returned.\\nstart_date\\nend_date\\tString (yyyy-mm-dd)\\tNo\\t\\tThe time interval to get weather data. A day must be specified as an ISO8601 date (e.g. 2022-06-30).\\nmodels\\tString array\\tNo\\tauto\\tManually select one or more weather models. Per default, the best suitable weather models will be combined.\\n\\nHourly Parameter Definition\\nThe parameter &hourly= accepts the following values. Most weather variables are given as an instantaneous value for the indicated hour. Some variables like precipitation are calculated from the preceding hour as an average or sum.\\n\\nVariable\\tValid time\\tUnit\\tDescription\\ntemperature_2m\\tInstant\\t°C (°F)\\tAir temperature at 2 meters above ground\\nsnowfall\\tPreceding hour sum\\tcm (inch)\\tSnowfall amount of the preceding hour in centimeters. For the water equivalent in millimeter, divide by 7. E.g. 7 cm snow = 10 mm precipitation water equivalent\\nrain\\tPreceding hour sum\\tmm (inch)\\tRain from large scale weather systems of the preceding hour in millimeter\\nshowers\\tPreceding hour sum\\tmm (inch)\\tShowers from convective precipitation in millimeters from the preceding hour\\nweathercode\\tInstant\\tWMO code\\tWeather condition as a numeric code. Follow WMO weather interpretation codes. See table below for details.\\nsnow_depth\\tInstant\\tmeters\\tSnow depth on the ground\\nfreezinglevel_height\\tInstant\\tmeters\\tAltitude above sea level of the 0°C level\\nvisibility\\tInstant\\tmeters\\tViewing distance in meters. Influenced by low clouds, humidity and aerosols. Maximum visibility is approximately 24 km.'\n",
    "\n",
    "llm = OpenAI(temperature=0)\n",
    "chain = APIChain.from_llm_and_api_docs(\n",
    "    llm,\n",
    "    api_doc,\n",
    "    verbose=True,\n",
    "    limit_to_domains=[\"https://api.open-meteo.com/\"],\n",
    ")\n",
    "chain.run(\n",
    "    \"What is the weather like right now in Munich, Germany in degrees Fahrenheit?\"\n",
    ")"
   ]
  },
  {
   "cell_type": "markdown",
   "metadata": {},
   "source": [
    "这里遇到一个很实际的问题，那就是在使用API的时候，很容易遇到API spec 无法解析，或者产生的URL无效等问题。这些往往和parser 的版本，API Doc的版本相关。其实本身并不鲁棒。这就是使用URL或者说GET的不方便的地方。\n",
    "那么能不能让这个过程变得更加简单，变得更加鲁棒呢？"
   ]
  },
  {
   "cell_type": "code",
   "execution_count": 6,
   "metadata": {},
   "outputs": [
    {
     "data": {
      "text/plain": [
       "'BASE URL: https://api.open-meteo.com/\\n\\nAPI Documentation\\nThe API endpoint /v1/forecast accepts a geographical coordinate, a list of weather variables and responds with a JSON hourly weather forecast for 7 days. Time always starts at 0:00 today and contains 168 hours. All URL parameters are listed below:\\n\\nParameter\\tFormat\\tRequired\\tDefault\\tDescription\\nlatitude, longitude\\tFloating point\\tYes\\t\\tGeographical WGS84 coordinate of the location\\nhourly\\tString array\\tNo\\t\\tA list of weather variables which should be returned. Values can be comma separated, or multiple &hourly= parameter in the URL can be used.\\ndaily\\tString array\\tNo\\t\\tA list of daily weather variable aggregations which should be returned. Values can be comma separated, or multiple &daily= parameter in the URL can be used. If daily weather variables are specified, parameter timezone is required.\\ncurrent_weather\\tBool\\tNo\\tfalse\\tInclude current weather conditions in the JSON output.\\ntemperature_unit\\tString\\tNo\\tcelsius\\tIf fahrenheit is set, all temperature values are converted to Fahrenheit.\\nwindspeed_unit\\tString\\tNo\\tkmh\\tOther wind speed speed units: ms, mph and kn\\nprecipitation_unit\\tString\\tNo\\tmm\\tOther precipitation amount units: inch\\ntimeformat\\tString\\tNo\\tiso8601\\tIf format unixtime is selected, all time values are returned in UNIX epoch time in seconds. Please note that all timestamp are in GMT+0! For daily values with unix timestamps, please apply utc_offset_seconds again to get the correct date.\\ntimezone\\tString\\tNo\\tGMT\\tIf timezone is set, all timestamps are returned as local-time and data is returned starting at 00:00 local-time. Any time zone name from the time zone database is supported. If auto is set as a time zone, the coordinates will be automatically resolved to the local time zone.\\npast_days\\tInteger (0-2)\\tNo\\t0\\tIf past_days is set, yesterday or the day before yesterday data are also returned.\\nstart_date\\nend_date\\tString (yyyy-mm-dd)\\tNo\\t\\tThe time interval to get weather data. A day must be specified as an ISO8601 date (e.g. 2022-06-30).\\nmodels\\tString array\\tNo\\tauto\\tManually select one or more weather models. Per default, the best suitable weather models will be combined.\\n\\nHourly Parameter Definition\\nThe parameter &hourly= accepts the following values. Most weather variables are given as an instantaneous value for the indicated hour. Some variables like precipitation are calculated from the preceding hour as an average or sum.\\n\\nVariable\\tValid time\\tUnit\\tDescription\\ntemperature_2m\\tInstant\\t°C (°F)\\tAir temperature at 2 meters above ground\\nsnowfall\\tPreceding hour sum\\tcm (inch)\\tSnowfall amount of the preceding hour in centimeters. For the water equivalent in millimeter, divide by 7. E.g. 7 cm snow = 10 mm precipitation water equivalent\\nrain\\tPreceding hour sum\\tmm (inch)\\tRain from large scale weather systems of the preceding hour in millimeter\\nshowers\\tPreceding hour sum\\tmm (inch)\\tShowers from convective precipitation in millimeters from the preceding hour\\nweathercode\\tInstant\\tWMO code\\tWeather condition as a numeric code. Follow WMO weather interpretation codes. See table below for details.\\nsnow_depth\\tInstant\\tmeters\\tSnow depth on the ground\\nfreezinglevel_height\\tInstant\\tmeters\\tAltitude above sea level of the 0°C level\\nvisibility\\tInstant\\tmeters\\tViewing distance in meters. Influenced by low clouds, humidity and aerosols. Maximum visibility is approximately 24 km.'"
      ]
     },
     "execution_count": 6,
     "metadata": {},
     "output_type": "execute_result"
    }
   ],
   "source": [
    "open_meteo_docs.OPEN_METEO_DOCS # 就是一个字符串，属于是api specification "
   ]
  },
  {
   "cell_type": "markdown",
   "metadata": {},
   "source": []
  },
  {
   "cell_type": "code",
   "execution_count": 13,
   "metadata": {},
   "outputs": [
    {
     "name": "stdout",
     "output_type": "stream",
     "text": [
      "\n",
      "\n",
      "\u001b[1m> Entering new APIChain chain...\u001b[0m\n",
      "\u001b[32;1m\u001b[1;3m https://api.themoviedb.org/3/search/movie?query=Avatar&language=en-US\u001b[0m\n",
      "\u001b[33;1m\u001b[1;3m{\"status_code\":7,\"status_message\":\"Invalid API key: You must be granted a valid key.\",\"success\":false}\n",
      "\u001b[0m\n",
      "\n",
      "\u001b[1m> Finished chain.\u001b[0m\n"
     ]
    },
    {
     "data": {
      "text/plain": [
       "' The API call was unsuccessful due to an invalid API key.'"
      ]
     },
     "execution_count": 13,
     "metadata": {},
     "output_type": "execute_result"
    }
   ],
   "source": [
    "import os\n",
    "\n",
    "os.environ[\"TMDB_BEARER_TOKEN\"] = \"\" # 需要去申请\n",
    "from langchain.chains.api import tmdb_docs\n",
    "# 但是这里可以看到的是，如果你需要验证登录，那么就需要添加 header\n",
    "headers = {\"Authorization\": f\"Bearer {os.environ['TMDB_BEARER_TOKEN']}\"}\n",
    "chain = APIChain.from_llm_and_api_docs(\n",
    "    llm,\n",
    "    tmdb_docs.TMDB_DOCS,\n",
    "    headers=headers,\n",
    "    verbose=True,\n",
    "    limit_to_domains=[\"https://api.themoviedb.org/\"],\n",
    ")\n",
    "chain.run(\"Search for 'Avatar'\")"
   ]
  },
  {
   "cell_type": "markdown",
   "metadata": {},
   "source": [
    "方法3：使用GET方法"
   ]
  },
  {
   "cell_type": "code",
   "execution_count": 14,
   "metadata": {},
   "outputs": [],
   "source": [
    "from langchain.chains import LLMChain, LLMRequestsChain\n",
    "from langchain.llms import OpenAI\n",
    "from langchain.prompts import PromptTemplate\n",
    "template = \"\"\"Between >>> and <<< are the raw search result text from google.\n",
    "Extract the answer to the question '{query}' or say \"not found\" if the information is not contained.\n",
    "Use the format\n",
    "Extracted:<answer or \"not found\">\n",
    ">>> {requests_result} <<<\n",
    "Extracted:\"\"\"\n",
    "\n",
    "PROMPT = PromptTemplate(\n",
    "    input_variables=[\"query\", \"requests_result\"],\n",
    "    template=template,\n",
    ")"
   ]
  },
  {
   "cell_type": "code",
   "execution_count": 15,
   "metadata": {},
   "outputs": [
    {
     "data": {
      "text/plain": [
       "{'query': 'What are the Three (3) biggest countries, and their respective sizes?',\n",
       " 'url': 'https://www.google.com/search?q=What+are+the+Three+(3)+biggest+countries,+and+their+respective+sizes?',\n",
       " 'output': ' Russia (17.1M km²), Canada (10M km²), China (9.7M km²)'}"
      ]
     },
     "execution_count": 15,
     "metadata": {},
     "output_type": "execute_result"
    }
   ],
   "source": [
    "# the LLMRequestsChain makes an HTTP GET request.\n",
    "chain = LLMRequestsChain(llm_chain=LLMChain(llm=OpenAI(temperature=0), prompt=PROMPT))\n",
    "question = \"What are the Three (3) biggest countries, and their respective sizes?\"\n",
    "inputs = {\n",
    "    \"query\": question,\n",
    "    \"url\": \"https://www.google.com/search?q=\" + question.replace(\" \", \"+\"),\n",
    "}\n",
    "chain(inputs)\n",
    "# 这里使用了Google search的例子。那么同样，你应该也能用这个接口来搜索其他内容。也就是能联网搜索了。原来联网搜索这么简单。"
   ]
  }
 ],
 "metadata": {
  "kernelspec": {
   "display_name": "langchain",
   "language": "python",
   "name": "python3"
  },
  "language_info": {
   "codemirror_mode": {
    "name": "ipython",
    "version": 3
   },
   "file_extension": ".py",
   "mimetype": "text/x-python",
   "name": "python",
   "nbconvert_exporter": "python",
   "pygments_lexer": "ipython3",
   "version": "3.11.4"
  }
 },
 "nbformat": 4,
 "nbformat_minor": 2
}
